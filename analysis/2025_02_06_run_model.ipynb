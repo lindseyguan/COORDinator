{
 "cells": [
  {
   "cell_type": "code",
   "execution_count": null,
   "id": "df71ef7f-9b64-421f-bf87-6be0e9b24453",
   "metadata": {},
   "outputs": [],
   "source": [
    "## Load packages\n",
    "\n",
    "import torch\n",
    "import torch.nn.functional as F\n",
    "import numpy as np\n",
    "import pandas as pd\n",
    "import matplotlib.pyplot as plt\n",
    "import os\n",
    "import sys\n",
    "from scipy import stats\n",
    "from scipy.stats import spearmanr\n",
    "import copy\n",
    "from collections import defaultdict\n",
    "from tqdm import tqdm\n",
    "\n",
    "from terminator.utils.common import ints_to_seq_torch\n",
    "from terminator.utils.model import loss_fn\n",
    "import importlib\n",
    "importlib.reload(loss_fn) ## Reload in case changes were made to loss_fn\n",
    "calc_eners_stability = loss_fn.calc_eners_stability"
   ]
  },
  {
   "cell_type": "code",
   "execution_count": null,
   "id": "d3b34765-af11-4abc-9099-302ee9370bab",
   "metadata": {},
   "outputs": [],
   "source": [
    "## Load util functions\n",
    "\n",
    "%run 2025_02_06_run_model_utils.ipynb"
   ]
  },
  {
   "cell_type": "code",
   "execution_count": null,
   "id": "cbf0c584-3730-4e63-8f99-dd371cfab4b6",
   "metadata": {},
   "outputs": [],
   "source": [
    "dataset = '../pdbs' ## Directory containing .pdb files\n",
    "pdb_list = ['3PK1.pdb'] ## List of .pdb files to run on\n",
    "dev = 'cpu' ## Device to run on (change to cuda:{device_id} if running with a GPU)\n",
    "model_dir = '../models/coordinator' ## Default model (do not change)\n",
    "ener_data_file = \"../ener_data/test_seq_ener.csv\" # '../ener_data/3PK1_ener.csv' #None ## Benchmark energy data (None if no energy data to provide; Use this example to know what column headers to use)\n",
    "adj_index = False ## Indicates if the 'pos' column of the energy data benchmark uses the indices in the .pdb file (which can be nonconsecutive) or are consecutive integers\n",
    "seq_df = True ## Indicates whether the ener_data_file contains just sequences and energies (in columns named 'seqs', and 'ener')\n",
    "args = model_args(dataset = dataset,\n",
    "                 model_dir = model_dir, #\n",
    "                 dev=dev,\n",
    "                 checkpoint='net_best_checkpoint.pt',\n",
    "                 pdb_list=pdb_list,\n",
    "                 ener_data=ener_data_file,\n",
    "                 adj_index=adj_index,\n",
    "                 seq_df=seq_df\n",
    "                 ) \n",
    "## \n",
    "\n",
    "model_vars = get_model_and_data(args)\n",
    "model, dataloader, _, _, _, _, _, _, run_hparams, model_hparams = model_vars\n"
   ]
  },
  {
   "cell_type": "code",
   "execution_count": null,
   "id": "94636e42",
   "metadata": {},
   "outputs": [],
   "source": [
    "model = model.eval()"
   ]
  },
  {
   "cell_type": "code",
   "execution_count": null,
   "id": "3876bc4a-6a44-440b-9e21-7036e56c6e56",
   "metadata": {},
   "outputs": [],
   "source": [
    "run_hparams['loss_config'] = {\"nlcpl\": 1, \"loss_smoothed\": 1, \"stability_loss\": 1}\n",
    "## nlcpl: Potts model loss\n",
    "## loss_smoothed: Sequence recovery loss\n",
    "## stability_loss: energy loss\n",
    "loss_fn_real = loss_fn.construct_loss_fn(run_hparams)"
   ]
  },
  {
   "cell_type": "code",
   "execution_count": null,
   "id": "f3a3c7c8-2859-4f7d-b424-af616951f18f",
   "metadata": {},
   "outputs": [],
   "source": [
    "## If no energy data provided, create synthetic sequences representing a DMS screen\n",
    "mut_aa_encoded = torch.arange(20)\n",
    "if ener_data_file is None:\n",
    "    new_dataloader = []\n",
    "    for data in dataloader:\n",
    "        sort_seqs = []\n",
    "        for pos in range(data['seqs'].shape[1]):\n",
    "            wt_aa_encoded = data['seqs'][0,pos].cpu().item()\n",
    "            for mut_ind in range(20):\n",
    "                if mut_ind == wt_aa_encoded:\n",
    "                    continue\n",
    "                mut_seq = copy.deepcopy(data['seqs'])\n",
    "                mut_seq[0,pos] = mut_ind\n",
    "                sort_seqs.append(mut_seq)\n",
    "\n",
    "        sort_seqs = torch.stack(sort_seqs, dim=1)\n",
    "        sort_nrgs = -1*torch.ones((1, sort_seqs.shape[1]))\n",
    "        data['sortcery_seqs'] = sort_seqs\n",
    "        data['sortcery_nrgs'] = sort_nrgs\n",
    "        new_dataloader.append(copy.deepcopy(data))\n",
    "    dataloader = new_dataloader"
   ]
  },
  {
   "cell_type": "code",
   "execution_count": null,
   "id": "2cdf51dd-d1fb-42de-a5c7-0da6ac145815",
   "metadata": {},
   "outputs": [],
   "source": [
    "## Run COORDinator and output Potts losses, sequence losses, energy losses, and all energy predictions\n",
    "\n",
    "out_dir = '../ener_preds'\n",
    "pdb_losses = {'Protein': [], 'Potts': [], 'Sequence': [], 'NSR': [], 'Energy': []}\n",
    "\n",
    "return_all_preds = True\n",
    "\n",
    "with torch.no_grad():\n",
    "    for data in tqdm(dataloader):\n",
    "        pdb = data['ids'][0]\n",
    "   \n",
    "        max_seq_len = max(data['seq_lens'].tolist())\n",
    "        etab, h_V, _, E_idx, _, _ = model(data, max_seq_len)\n",
    "        batch_loss_dict = loss_fn_real(etab, h_V, None, None, E_idx, None, copy.deepcopy(data), None, None, None, \n",
    "                                      None, None, False, None)\n",
    "        pdb_losses['Protein'].append(pdb)\n",
    "        pdb_losses['Potts'].append(batch_loss_dict['nlcpl']['loss'].cpu().item())\n",
    "        pdb_losses['Sequence'].append(batch_loss_dict['loss_smoothed']['loss'].cpu().item())\n",
    "        pdb_losses['NSR'].append(batch_loss_dict['loss_smoothed']['nsr'].cpu().item())\n",
    "        if ener_data_file is not None and type(batch_loss_dict['stability_loss']['loss']) is not int:\n",
    "            pdb_losses['Energy'].append(batch_loss_dict['stability_loss']['loss'].cpu().item())\n",
    "        else:\n",
    "            pdb_losses['Energy'].append(np.nan)\n",
    "        \n",
    "        if return_all_preds:\n",
    "            mut_file = os.path.join(out_dir, f\"COORD_pred_{pdb}.csv\")\n",
    "            b, n, k, h = etab.shape\n",
    "            h = int(np.sqrt(h))\n",
    "            etab = etab.view(b, n, k, h, h)\n",
    "            pad = (0, 2, 0, 2)\n",
    "            etab = F.pad(etab, pad, \"constant\", 0)\n",
    "            predicted_E, ref_seqs, ref_energies = calc_eners_stability(etab, E_idx, data['sortcery_seqs'], data['sortcery_nrgs'])\n",
    "            if predicted_E.shape[0] > 1:\n",
    "                norm_pred = predicted_E - torch.mean(predicted_E) \n",
    "                norm_ref = ref_energies - torch.mean(ref_energies)\n",
    "            else:\n",
    "                norm_pred = predicted_E\n",
    "                norm_ref = ref_energies\n",
    "            \n",
    "            pdb_stats = save_preds(norm_pred, ref_seqs, data['seqs'][0], pdb)\n",
    "            pdb_df = pd.DataFrame(pdb_stats).sort_values(by=['pos', 'mutant'], ascending=[True, True])\n",
    "            pdb_df.to_csv(mut_file, index=None)\n",
    "\n",
    "pdb_losses = pd.DataFrame(pdb_losses)"
   ]
  },
  {
   "cell_type": "code",
   "execution_count": null,
   "id": "1248f585-3cdc-489d-a5b2-a472efcb8fff",
   "metadata": {},
   "outputs": [],
   "source": [
    "predicted_E.shape"
   ]
  },
  {
   "cell_type": "code",
   "execution_count": null,
   "id": "2a01216b-997a-40a4-aa3b-0ff203178d7b",
   "metadata": {},
   "outputs": [],
   "source": []
  },
  {
   "cell_type": "code",
   "execution_count": 23,
   "id": "eedbba3c-3b96-4095-be0f-773aedc161f4",
   "metadata": {},
   "outputs": [
    {
     "data": {
      "text/plain": [
       "False"
      ]
     },
     "execution_count": 23,
     "metadata": {},
     "output_type": "execute_result"
    }
   ],
   "source": [
    "type(batch_loss_dict['stability_loss']['loss']) is not int"
   ]
  },
  {
   "cell_type": "code",
   "execution_count": null,
   "id": "db165cad-4e89-4270-bf72-1727fa2270f3",
   "metadata": {},
   "outputs": [],
   "source": []
  },
  {
   "cell_type": "code",
   "execution_count": 17,
   "id": "09021ae1-0091-49eb-a13a-67ed89084e84",
   "metadata": {},
   "outputs": [
    {
     "data": {
      "text/plain": [
       "0"
      ]
     },
     "execution_count": 17,
     "metadata": {},
     "output_type": "execute_result"
    }
   ],
   "source": [
    "batch_loss_dict['stability_loss']['loss']"
   ]
  },
  {
   "cell_type": "code",
   "execution_count": null,
   "id": "f51b275a-848f-4a1c-807d-56a71a1d1df9",
   "metadata": {},
   "outputs": [],
   "source": []
  },
  {
   "cell_type": "code",
   "execution_count": 9,
   "id": "47a903d0-f46e-4bdf-ba91-73a50a41ca11",
   "metadata": {},
   "outputs": [
    {
     "data": {
      "text/plain": [
       "(torch.Size([1, 4, 156]), torch.Size([1, 4]), torch.Size([1, 160, 30, 400]))"
      ]
     },
     "execution_count": 9,
     "metadata": {},
     "output_type": "execute_result"
    }
   ],
   "source": [
    "data['sortcery_seqs'].shape, data['sortcery_nrgs'].shape, etab.shape"
   ]
  },
  {
   "cell_type": "code",
   "execution_count": 10,
   "id": "ca2af7ac-33aa-40ee-8b11-d49c503df694",
   "metadata": {},
   "outputs": [
    {
     "data": {
      "text/plain": [
       "'SLYRQSLEIISRYLREQATGAKATSRKALETLRRVGDGVQRNHETAFQGMLRKLDIKNEDDVKSLSRVMIHVFSDGVTNWGRIVTLISFGAFVAKHLKTINQESCIEPLAESITDVLVRTKRDWLVKQRGWDGFVEFFHVSTKKLSECLKRIGDELDSNM'"
      ]
     },
     "execution_count": 10,
     "metadata": {},
     "output_type": "execute_result"
    }
   ],
   "source": [
    "\"\".join(ints_to_seq_torch(data['seqs'][0]))"
   ]
  },
  {
   "cell_type": "code",
   "execution_count": 11,
   "id": "4ace5f73-f7c4-4b90-8026-f620c7751a6d",
   "metadata": {},
   "outputs": [
    {
     "data": {
      "text/plain": [
       "'SLYRQSLEIISRYLREQATGAKALETLRRVGDGVQRNHETAFQGMLRKLDIKNEDDVKSLSRVMIHVFSDGVTNWGRIVTLISFGAFVAKHLKTINQESCIEPLAESITDVLVRTKRDWLVKQRGWDGFVEFFHVESTKKLSECLKRIGDELDSNM'"
      ]
     },
     "execution_count": 11,
     "metadata": {},
     "output_type": "execute_result"
    }
   ],
   "source": [
    "'SLYRQSLEIISRYLREQATGAKALETLRRVGDGVQRNHETAFQGMLRKLDIKNEDDVKSLSRVMIHVFSDGVTNWGRIVTLISFGAFVAKHLKTINQESCIEPLAESITDVLVRTKRDWLVKQRGWDGFVEFFHVESTKKLSECLKRIGDELDSNM'"
   ]
  },
  {
   "cell_type": "code",
   "execution_count": null,
   "id": "87228c53-f7f1-4217-8a93-fbdd4560e278",
   "metadata": {},
   "outputs": [],
   "source": []
  },
  {
   "cell_type": "code",
   "execution_count": 173,
   "id": "b384438f-27ca-48fd-b7c6-db9493bb07c3",
   "metadata": {},
   "outputs": [
    {
     "data": {
      "text/html": [
       "<div>\n",
       "<style scoped>\n",
       "    .dataframe tbody tr th:only-of-type {\n",
       "        vertical-align: middle;\n",
       "    }\n",
       "\n",
       "    .dataframe tbody tr th {\n",
       "        vertical-align: top;\n",
       "    }\n",
       "\n",
       "    .dataframe thead th {\n",
       "        text-align: right;\n",
       "    }\n",
       "</style>\n",
       "<table border=\"1\" class=\"dataframe\">\n",
       "  <thead>\n",
       "    <tr style=\"text-align: right;\">\n",
       "      <th></th>\n",
       "      <th>Protein</th>\n",
       "      <th>Potts</th>\n",
       "      <th>Sequence</th>\n",
       "      <th>NSR</th>\n",
       "      <th>Energy</th>\n",
       "    </tr>\n",
       "  </thead>\n",
       "  <tbody>\n",
       "    <tr>\n",
       "      <th>0</th>\n",
       "      <td>3PK1.pdb</td>\n",
       "      <td>1.901406</td>\n",
       "      <td>1.667682</td>\n",
       "      <td>0.55625</td>\n",
       "      <td>0.557569</td>\n",
       "    </tr>\n",
       "  </tbody>\n",
       "</table>\n",
       "</div>"
      ],
      "text/plain": [
       "    Protein     Potts  Sequence      NSR    Energy\n",
       "0  3PK1.pdb  1.901406  1.667682  0.55625  0.557569"
      ]
     },
     "execution_count": 173,
     "metadata": {},
     "output_type": "execute_result"
    }
   ],
   "source": [
    "## Display losses\n",
    "pdb_losses"
   ]
  },
  {
   "cell_type": "code",
   "execution_count": 174,
   "id": "a22301dd-56da-444e-b50e-2c6a3391608b",
   "metadata": {},
   "outputs": [
    {
     "data": {
      "image/png": "[encoded data removed]",
      "text/plain": [
       "<Figure size 640x480 with 1 Axes>"
      ]
     },
     "metadata": {},
     "output_type": "display_data"
    }
   ],
   "source": [
    "## Example analysis showing how to merge predicted and real energies\n",
    "ener_df = pd.read_csv('../ener_data/3PK1_ener.csv')\n",
    "merge_df = ener_df.merge(pdb_df[['mutation', 'pred_ener']], on='mutation')\n",
    "\n",
    "## Example plotting (1st argument is real energies; 2nd argument is predicted energies)\n",
    "plot_scatter_list(merge_df['ener'], merge_df['pred_ener'], 'COORDinator prediction')"
   ]
  },
  {
   "cell_type": "code",
   "execution_count": null,
   "id": "48f72eec-d6a5-4cf2-99ad-f9c144ae3e93",
   "metadata": {},
   "outputs": [],
   "source": []
  }
 ],
 "metadata": {
  "kernelspec": {
   "display_name": "coordinator",
   "language": "python",
   "name": "coordinator"
  },
  "language_info": {
   "codemirror_mode": {
    "name": "ipython",
    "version": 3
   },
   "file_extension": ".py",
   "mimetype": "text/x-python",
   "name": "python",
   "nbconvert_exporter": "python",
   "pygments_lexer": "ipython3",
   "version": "3.9.18"
  }
 },
 "nbformat": 4,
 "nbformat_minor": 5
}
